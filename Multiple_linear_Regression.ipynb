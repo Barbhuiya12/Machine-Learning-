{
  "nbformat": 4,
  "nbformat_minor": 0,
  "metadata": {
    "colab": {
      "provenance": [],
      "collapsed_sections": [],
      "authorship_tag": "ABX9TyNYcI1mikLNX3Wqkuup0Pip",
      "include_colab_link": true
    },
    "kernelspec": {
      "name": "python3",
      "display_name": "Python 3"
    },
    "language_info": {
      "name": "python"
    }
  },
  "cells": [
    {
      "cell_type": "markdown",
      "metadata": {
        "id": "view-in-github",
        "colab_type": "text"
      },
      "source": [
        "<a href=\"https://colab.research.google.com/github/Barbhuiya12/Machine-Learning-/blob/main/Multiple_linear_Regression.ipynb\" target=\"_parent\"><img src=\"https://colab.research.google.com/assets/colab-badge.svg\" alt=\"Open In Colab\"/></a>"
      ]
    },
    {
      "cell_type": "markdown",
      "source": [
        "**Importing the libraries**"
      ],
      "metadata": {
        "id": "uXsa-BAS9PkL"
      }
    },
    {
      "cell_type": "code",
      "execution_count": 31,
      "metadata": {
        "id": "YWiAinOk5L-z"
      },
      "outputs": [],
      "source": [
        "import numpy as np\n",
        "import matplotlib.pyplot as plt\n",
        "import pandas as pd"
      ]
    },
    {
      "cell_type": "markdown",
      "source": [
        "\n",
        "**Importing the dataset**"
      ],
      "metadata": {
        "id": "E5Jizsc-9oDp"
      }
    },
    {
      "cell_type": "code",
      "source": [
        "df = pd.read_csv(r\"50_Startups.csv\")\n"
      ],
      "metadata": {
        "colab": {
          "base_uri": "https://localhost:8080/",
          "height": 1000
        },
        "id": "LflnPOxM9qjW",
        "outputId": "56f8f6df-b51f-4582-cc14-6c036cf87ef2"
      },
      "execution_count": 4,
      "outputs": [
        {
          "output_type": "execute_result",
          "data": {
            "text/plain": [
              "    R&D Spend  Administration  Marketing Spend       State     Profit\n",
              "0   165349.20       136897.80        471784.10    New York  192261.83\n",
              "1   162597.70       151377.59        443898.53  California  191792.06\n",
              "2   153441.51       101145.55        407934.54     Florida  191050.39\n",
              "3   144372.41       118671.85        383199.62    New York  182901.99\n",
              "4   142107.34        91391.77        366168.42     Florida  166187.94\n",
              "5   131876.90        99814.71        362861.36    New York  156991.12\n",
              "6   134615.46       147198.87        127716.82  California  156122.51\n",
              "7   130298.13       145530.06        323876.68     Florida  155752.60\n",
              "8   120542.52       148718.95        311613.29    New York  152211.77\n",
              "9   123334.88       108679.17        304981.62  California  149759.96\n",
              "10  101913.08       110594.11        229160.95     Florida  146121.95\n",
              "11  100671.96        91790.61        249744.55  California  144259.40\n",
              "12   93863.75       127320.38        249839.44     Florida  141585.52\n",
              "13   91992.39       135495.07        252664.93  California  134307.35\n",
              "14  119943.24       156547.42        256512.92     Florida  132602.65\n",
              "15  114523.61       122616.84        261776.23    New York  129917.04\n",
              "16   78013.11       121597.55        264346.06  California  126992.93\n",
              "17   94657.16       145077.58        282574.31    New York  125370.37\n",
              "18   91749.16       114175.79        294919.57     Florida  124266.90\n",
              "19   86419.70       153514.11             0.00    New York  122776.86\n",
              "20   76253.86       113867.30        298664.47  California  118474.03\n",
              "21   78389.47       153773.43        299737.29    New York  111313.02\n",
              "22   73994.56       122782.75        303319.26     Florida  110352.25\n",
              "23   67532.53       105751.03        304768.73     Florida  108733.99\n",
              "24   77044.01        99281.34        140574.81    New York  108552.04\n",
              "25   64664.71       139553.16        137962.62  California  107404.34\n",
              "26   75328.87       144135.98        134050.07     Florida  105733.54\n",
              "27   72107.60       127864.55        353183.81    New York  105008.31\n",
              "28   66051.52       182645.56        118148.20     Florida  103282.38\n",
              "29   65605.48       153032.06        107138.38    New York  101004.64\n",
              "30   61994.48       115641.28         91131.24     Florida   99937.59\n",
              "31   61136.38       152701.92         88218.23    New York   97483.56\n",
              "32   63408.86       129219.61         46085.25  California   97427.84\n",
              "33   55493.95       103057.49        214634.81     Florida   96778.92\n",
              "34   46426.07       157693.92        210797.67  California   96712.80\n",
              "35   46014.02        85047.44        205517.64    New York   96479.51\n",
              "36   28663.76       127056.21        201126.82     Florida   90708.19\n",
              "37   44069.95        51283.14        197029.42  California   89949.14\n",
              "38   20229.59        65947.93        185265.10    New York   81229.06\n",
              "39   38558.51        82982.09        174999.30  California   81005.76\n",
              "40   28754.33       118546.05        172795.67  California   78239.91\n",
              "41   27892.92        84710.77        164470.71     Florida   77798.83\n",
              "42   23640.93        96189.63        148001.11  California   71498.49\n",
              "43   15505.73       127382.30         35534.17    New York   69758.98\n",
              "44   22177.74       154806.14         28334.72  California   65200.33\n",
              "45    1000.23       124153.04          1903.93    New York   64926.08\n",
              "46    1315.46       115816.21        297114.46     Florida   49490.75\n",
              "47       0.00       135426.92             0.00  California   42559.73\n",
              "48     542.05        51743.15             0.00    New York   35673.41\n",
              "49       0.00       116983.80         45173.06  California   14681.40"
            ],
            "text/html": [
              "\n",
              "  <div id=\"df-4767cbcf-86df-4108-a45a-ba147cab0de0\">\n",
              "    <div class=\"colab-df-container\">\n",
              "      <div>\n",
              "<style scoped>\n",
              "    .dataframe tbody tr th:only-of-type {\n",
              "        vertical-align: middle;\n",
              "    }\n",
              "\n",
              "    .dataframe tbody tr th {\n",
              "        vertical-align: top;\n",
              "    }\n",
              "\n",
              "    .dataframe thead th {\n",
              "        text-align: right;\n",
              "    }\n",
              "</style>\n",
              "<table border=\"1\" class=\"dataframe\">\n",
              "  <thead>\n",
              "    <tr style=\"text-align: right;\">\n",
              "      <th></th>\n",
              "      <th>R&amp;D Spend</th>\n",
              "      <th>Administration</th>\n",
              "      <th>Marketing Spend</th>\n",
              "      <th>State</th>\n",
              "      <th>Profit</th>\n",
              "    </tr>\n",
              "  </thead>\n",
              "  <tbody>\n",
              "    <tr>\n",
              "      <th>0</th>\n",
              "      <td>165349.20</td>\n",
              "      <td>136897.80</td>\n",
              "      <td>471784.10</td>\n",
              "      <td>New York</td>\n",
              "      <td>192261.83</td>\n",
              "    </tr>\n",
              "    <tr>\n",
              "      <th>1</th>\n",
              "      <td>162597.70</td>\n",
              "      <td>151377.59</td>\n",
              "      <td>443898.53</td>\n",
              "      <td>California</td>\n",
              "      <td>191792.06</td>\n",
              "    </tr>\n",
              "    <tr>\n",
              "      <th>2</th>\n",
              "      <td>153441.51</td>\n",
              "      <td>101145.55</td>\n",
              "      <td>407934.54</td>\n",
              "      <td>Florida</td>\n",
              "      <td>191050.39</td>\n",
              "    </tr>\n",
              "    <tr>\n",
              "      <th>3</th>\n",
              "      <td>144372.41</td>\n",
              "      <td>118671.85</td>\n",
              "      <td>383199.62</td>\n",
              "      <td>New York</td>\n",
              "      <td>182901.99</td>\n",
              "    </tr>\n",
              "    <tr>\n",
              "      <th>4</th>\n",
              "      <td>142107.34</td>\n",
              "      <td>91391.77</td>\n",
              "      <td>366168.42</td>\n",
              "      <td>Florida</td>\n",
              "      <td>166187.94</td>\n",
              "    </tr>\n",
              "    <tr>\n",
              "      <th>5</th>\n",
              "      <td>131876.90</td>\n",
              "      <td>99814.71</td>\n",
              "      <td>362861.36</td>\n",
              "      <td>New York</td>\n",
              "      <td>156991.12</td>\n",
              "    </tr>\n",
              "    <tr>\n",
              "      <th>6</th>\n",
              "      <td>134615.46</td>\n",
              "      <td>147198.87</td>\n",
              "      <td>127716.82</td>\n",
              "      <td>California</td>\n",
              "      <td>156122.51</td>\n",
              "    </tr>\n",
              "    <tr>\n",
              "      <th>7</th>\n",
              "      <td>130298.13</td>\n",
              "      <td>145530.06</td>\n",
              "      <td>323876.68</td>\n",
              "      <td>Florida</td>\n",
              "      <td>155752.60</td>\n",
              "    </tr>\n",
              "    <tr>\n",
              "      <th>8</th>\n",
              "      <td>120542.52</td>\n",
              "      <td>148718.95</td>\n",
              "      <td>311613.29</td>\n",
              "      <td>New York</td>\n",
              "      <td>152211.77</td>\n",
              "    </tr>\n",
              "    <tr>\n",
              "      <th>9</th>\n",
              "      <td>123334.88</td>\n",
              "      <td>108679.17</td>\n",
              "      <td>304981.62</td>\n",
              "      <td>California</td>\n",
              "      <td>149759.96</td>\n",
              "    </tr>\n",
              "    <tr>\n",
              "      <th>10</th>\n",
              "      <td>101913.08</td>\n",
              "      <td>110594.11</td>\n",
              "      <td>229160.95</td>\n",
              "      <td>Florida</td>\n",
              "      <td>146121.95</td>\n",
              "    </tr>\n",
              "    <tr>\n",
              "      <th>11</th>\n",
              "      <td>100671.96</td>\n",
              "      <td>91790.61</td>\n",
              "      <td>249744.55</td>\n",
              "      <td>California</td>\n",
              "      <td>144259.40</td>\n",
              "    </tr>\n",
              "    <tr>\n",
              "      <th>12</th>\n",
              "      <td>93863.75</td>\n",
              "      <td>127320.38</td>\n",
              "      <td>249839.44</td>\n",
              "      <td>Florida</td>\n",
              "      <td>141585.52</td>\n",
              "    </tr>\n",
              "    <tr>\n",
              "      <th>13</th>\n",
              "      <td>91992.39</td>\n",
              "      <td>135495.07</td>\n",
              "      <td>252664.93</td>\n",
              "      <td>California</td>\n",
              "      <td>134307.35</td>\n",
              "    </tr>\n",
              "    <tr>\n",
              "      <th>14</th>\n",
              "      <td>119943.24</td>\n",
              "      <td>156547.42</td>\n",
              "      <td>256512.92</td>\n",
              "      <td>Florida</td>\n",
              "      <td>132602.65</td>\n",
              "    </tr>\n",
              "    <tr>\n",
              "      <th>15</th>\n",
              "      <td>114523.61</td>\n",
              "      <td>122616.84</td>\n",
              "      <td>261776.23</td>\n",
              "      <td>New York</td>\n",
              "      <td>129917.04</td>\n",
              "    </tr>\n",
              "    <tr>\n",
              "      <th>16</th>\n",
              "      <td>78013.11</td>\n",
              "      <td>121597.55</td>\n",
              "      <td>264346.06</td>\n",
              "      <td>California</td>\n",
              "      <td>126992.93</td>\n",
              "    </tr>\n",
              "    <tr>\n",
              "      <th>17</th>\n",
              "      <td>94657.16</td>\n",
              "      <td>145077.58</td>\n",
              "      <td>282574.31</td>\n",
              "      <td>New York</td>\n",
              "      <td>125370.37</td>\n",
              "    </tr>\n",
              "    <tr>\n",
              "      <th>18</th>\n",
              "      <td>91749.16</td>\n",
              "      <td>114175.79</td>\n",
              "      <td>294919.57</td>\n",
              "      <td>Florida</td>\n",
              "      <td>124266.90</td>\n",
              "    </tr>\n",
              "    <tr>\n",
              "      <th>19</th>\n",
              "      <td>86419.70</td>\n",
              "      <td>153514.11</td>\n",
              "      <td>0.00</td>\n",
              "      <td>New York</td>\n",
              "      <td>122776.86</td>\n",
              "    </tr>\n",
              "    <tr>\n",
              "      <th>20</th>\n",
              "      <td>76253.86</td>\n",
              "      <td>113867.30</td>\n",
              "      <td>298664.47</td>\n",
              "      <td>California</td>\n",
              "      <td>118474.03</td>\n",
              "    </tr>\n",
              "    <tr>\n",
              "      <th>21</th>\n",
              "      <td>78389.47</td>\n",
              "      <td>153773.43</td>\n",
              "      <td>299737.29</td>\n",
              "      <td>New York</td>\n",
              "      <td>111313.02</td>\n",
              "    </tr>\n",
              "    <tr>\n",
              "      <th>22</th>\n",
              "      <td>73994.56</td>\n",
              "      <td>122782.75</td>\n",
              "      <td>303319.26</td>\n",
              "      <td>Florida</td>\n",
              "      <td>110352.25</td>\n",
              "    </tr>\n",
              "    <tr>\n",
              "      <th>23</th>\n",
              "      <td>67532.53</td>\n",
              "      <td>105751.03</td>\n",
              "      <td>304768.73</td>\n",
              "      <td>Florida</td>\n",
              "      <td>108733.99</td>\n",
              "    </tr>\n",
              "    <tr>\n",
              "      <th>24</th>\n",
              "      <td>77044.01</td>\n",
              "      <td>99281.34</td>\n",
              "      <td>140574.81</td>\n",
              "      <td>New York</td>\n",
              "      <td>108552.04</td>\n",
              "    </tr>\n",
              "    <tr>\n",
              "      <th>25</th>\n",
              "      <td>64664.71</td>\n",
              "      <td>139553.16</td>\n",
              "      <td>137962.62</td>\n",
              "      <td>California</td>\n",
              "      <td>107404.34</td>\n",
              "    </tr>\n",
              "    <tr>\n",
              "      <th>26</th>\n",
              "      <td>75328.87</td>\n",
              "      <td>144135.98</td>\n",
              "      <td>134050.07</td>\n",
              "      <td>Florida</td>\n",
              "      <td>105733.54</td>\n",
              "    </tr>\n",
              "    <tr>\n",
              "      <th>27</th>\n",
              "      <td>72107.60</td>\n",
              "      <td>127864.55</td>\n",
              "      <td>353183.81</td>\n",
              "      <td>New York</td>\n",
              "      <td>105008.31</td>\n",
              "    </tr>\n",
              "    <tr>\n",
              "      <th>28</th>\n",
              "      <td>66051.52</td>\n",
              "      <td>182645.56</td>\n",
              "      <td>118148.20</td>\n",
              "      <td>Florida</td>\n",
              "      <td>103282.38</td>\n",
              "    </tr>\n",
              "    <tr>\n",
              "      <th>29</th>\n",
              "      <td>65605.48</td>\n",
              "      <td>153032.06</td>\n",
              "      <td>107138.38</td>\n",
              "      <td>New York</td>\n",
              "      <td>101004.64</td>\n",
              "    </tr>\n",
              "    <tr>\n",
              "      <th>30</th>\n",
              "      <td>61994.48</td>\n",
              "      <td>115641.28</td>\n",
              "      <td>91131.24</td>\n",
              "      <td>Florida</td>\n",
              "      <td>99937.59</td>\n",
              "    </tr>\n",
              "    <tr>\n",
              "      <th>31</th>\n",
              "      <td>61136.38</td>\n",
              "      <td>152701.92</td>\n",
              "      <td>88218.23</td>\n",
              "      <td>New York</td>\n",
              "      <td>97483.56</td>\n",
              "    </tr>\n",
              "    <tr>\n",
              "      <th>32</th>\n",
              "      <td>63408.86</td>\n",
              "      <td>129219.61</td>\n",
              "      <td>46085.25</td>\n",
              "      <td>California</td>\n",
              "      <td>97427.84</td>\n",
              "    </tr>\n",
              "    <tr>\n",
              "      <th>33</th>\n",
              "      <td>55493.95</td>\n",
              "      <td>103057.49</td>\n",
              "      <td>214634.81</td>\n",
              "      <td>Florida</td>\n",
              "      <td>96778.92</td>\n",
              "    </tr>\n",
              "    <tr>\n",
              "      <th>34</th>\n",
              "      <td>46426.07</td>\n",
              "      <td>157693.92</td>\n",
              "      <td>210797.67</td>\n",
              "      <td>California</td>\n",
              "      <td>96712.80</td>\n",
              "    </tr>\n",
              "    <tr>\n",
              "      <th>35</th>\n",
              "      <td>46014.02</td>\n",
              "      <td>85047.44</td>\n",
              "      <td>205517.64</td>\n",
              "      <td>New York</td>\n",
              "      <td>96479.51</td>\n",
              "    </tr>\n",
              "    <tr>\n",
              "      <th>36</th>\n",
              "      <td>28663.76</td>\n",
              "      <td>127056.21</td>\n",
              "      <td>201126.82</td>\n",
              "      <td>Florida</td>\n",
              "      <td>90708.19</td>\n",
              "    </tr>\n",
              "    <tr>\n",
              "      <th>37</th>\n",
              "      <td>44069.95</td>\n",
              "      <td>51283.14</td>\n",
              "      <td>197029.42</td>\n",
              "      <td>California</td>\n",
              "      <td>89949.14</td>\n",
              "    </tr>\n",
              "    <tr>\n",
              "      <th>38</th>\n",
              "      <td>20229.59</td>\n",
              "      <td>65947.93</td>\n",
              "      <td>185265.10</td>\n",
              "      <td>New York</td>\n",
              "      <td>81229.06</td>\n",
              "    </tr>\n",
              "    <tr>\n",
              "      <th>39</th>\n",
              "      <td>38558.51</td>\n",
              "      <td>82982.09</td>\n",
              "      <td>174999.30</td>\n",
              "      <td>California</td>\n",
              "      <td>81005.76</td>\n",
              "    </tr>\n",
              "    <tr>\n",
              "      <th>40</th>\n",
              "      <td>28754.33</td>\n",
              "      <td>118546.05</td>\n",
              "      <td>172795.67</td>\n",
              "      <td>California</td>\n",
              "      <td>78239.91</td>\n",
              "    </tr>\n",
              "    <tr>\n",
              "      <th>41</th>\n",
              "      <td>27892.92</td>\n",
              "      <td>84710.77</td>\n",
              "      <td>164470.71</td>\n",
              "      <td>Florida</td>\n",
              "      <td>77798.83</td>\n",
              "    </tr>\n",
              "    <tr>\n",
              "      <th>42</th>\n",
              "      <td>23640.93</td>\n",
              "      <td>96189.63</td>\n",
              "      <td>148001.11</td>\n",
              "      <td>California</td>\n",
              "      <td>71498.49</td>\n",
              "    </tr>\n",
              "    <tr>\n",
              "      <th>43</th>\n",
              "      <td>15505.73</td>\n",
              "      <td>127382.30</td>\n",
              "      <td>35534.17</td>\n",
              "      <td>New York</td>\n",
              "      <td>69758.98</td>\n",
              "    </tr>\n",
              "    <tr>\n",
              "      <th>44</th>\n",
              "      <td>22177.74</td>\n",
              "      <td>154806.14</td>\n",
              "      <td>28334.72</td>\n",
              "      <td>California</td>\n",
              "      <td>65200.33</td>\n",
              "    </tr>\n",
              "    <tr>\n",
              "      <th>45</th>\n",
              "      <td>1000.23</td>\n",
              "      <td>124153.04</td>\n",
              "      <td>1903.93</td>\n",
              "      <td>New York</td>\n",
              "      <td>64926.08</td>\n",
              "    </tr>\n",
              "    <tr>\n",
              "      <th>46</th>\n",
              "      <td>1315.46</td>\n",
              "      <td>115816.21</td>\n",
              "      <td>297114.46</td>\n",
              "      <td>Florida</td>\n",
              "      <td>49490.75</td>\n",
              "    </tr>\n",
              "    <tr>\n",
              "      <th>47</th>\n",
              "      <td>0.00</td>\n",
              "      <td>135426.92</td>\n",
              "      <td>0.00</td>\n",
              "      <td>California</td>\n",
              "      <td>42559.73</td>\n",
              "    </tr>\n",
              "    <tr>\n",
              "      <th>48</th>\n",
              "      <td>542.05</td>\n",
              "      <td>51743.15</td>\n",
              "      <td>0.00</td>\n",
              "      <td>New York</td>\n",
              "      <td>35673.41</td>\n",
              "    </tr>\n",
              "    <tr>\n",
              "      <th>49</th>\n",
              "      <td>0.00</td>\n",
              "      <td>116983.80</td>\n",
              "      <td>45173.06</td>\n",
              "      <td>California</td>\n",
              "      <td>14681.40</td>\n",
              "    </tr>\n",
              "  </tbody>\n",
              "</table>\n",
              "</div>\n",
              "      <button class=\"colab-df-convert\" onclick=\"convertToInteractive('df-4767cbcf-86df-4108-a45a-ba147cab0de0')\"\n",
              "              title=\"Convert this dataframe to an interactive table.\"\n",
              "              style=\"display:none;\">\n",
              "        \n",
              "  <svg xmlns=\"http://www.w3.org/2000/svg\" height=\"24px\"viewBox=\"0 0 24 24\"\n",
              "       width=\"24px\">\n",
              "    <path d=\"M0 0h24v24H0V0z\" fill=\"none\"/>\n",
              "    <path d=\"M18.56 5.44l.94 2.06.94-2.06 2.06-.94-2.06-.94-.94-2.06-.94 2.06-2.06.94zm-11 1L8.5 8.5l.94-2.06 2.06-.94-2.06-.94L8.5 2.5l-.94 2.06-2.06.94zm10 10l.94 2.06.94-2.06 2.06-.94-2.06-.94-.94-2.06-.94 2.06-2.06.94z\"/><path d=\"M17.41 7.96l-1.37-1.37c-.4-.4-.92-.59-1.43-.59-.52 0-1.04.2-1.43.59L10.3 9.45l-7.72 7.72c-.78.78-.78 2.05 0 2.83L4 21.41c.39.39.9.59 1.41.59.51 0 1.02-.2 1.41-.59l7.78-7.78 2.81-2.81c.8-.78.8-2.07 0-2.86zM5.41 20L4 18.59l7.72-7.72 1.47 1.35L5.41 20z\"/>\n",
              "  </svg>\n",
              "      </button>\n",
              "      \n",
              "  <style>\n",
              "    .colab-df-container {\n",
              "      display:flex;\n",
              "      flex-wrap:wrap;\n",
              "      gap: 12px;\n",
              "    }\n",
              "\n",
              "    .colab-df-convert {\n",
              "      background-color: #E8F0FE;\n",
              "      border: none;\n",
              "      border-radius: 50%;\n",
              "      cursor: pointer;\n",
              "      display: none;\n",
              "      fill: #1967D2;\n",
              "      height: 32px;\n",
              "      padding: 0 0 0 0;\n",
              "      width: 32px;\n",
              "    }\n",
              "\n",
              "    .colab-df-convert:hover {\n",
              "      background-color: #E2EBFA;\n",
              "      box-shadow: 0px 1px 2px rgba(60, 64, 67, 0.3), 0px 1px 3px 1px rgba(60, 64, 67, 0.15);\n",
              "      fill: #174EA6;\n",
              "    }\n",
              "\n",
              "    [theme=dark] .colab-df-convert {\n",
              "      background-color: #3B4455;\n",
              "      fill: #D2E3FC;\n",
              "    }\n",
              "\n",
              "    [theme=dark] .colab-df-convert:hover {\n",
              "      background-color: #434B5C;\n",
              "      box-shadow: 0px 1px 3px 1px rgba(0, 0, 0, 0.15);\n",
              "      filter: drop-shadow(0px 1px 2px rgba(0, 0, 0, 0.3));\n",
              "      fill: #FFFFFF;\n",
              "    }\n",
              "  </style>\n",
              "\n",
              "      <script>\n",
              "        const buttonEl =\n",
              "          document.querySelector('#df-4767cbcf-86df-4108-a45a-ba147cab0de0 button.colab-df-convert');\n",
              "        buttonEl.style.display =\n",
              "          google.colab.kernel.accessAllowed ? 'block' : 'none';\n",
              "\n",
              "        async function convertToInteractive(key) {\n",
              "          const element = document.querySelector('#df-4767cbcf-86df-4108-a45a-ba147cab0de0');\n",
              "          const dataTable =\n",
              "            await google.colab.kernel.invokeFunction('convertToInteractive',\n",
              "                                                     [key], {});\n",
              "          if (!dataTable) return;\n",
              "\n",
              "          const docLinkHtml = 'Like what you see? Visit the ' +\n",
              "            '<a target=\"_blank\" href=https://colab.research.google.com/notebooks/data_table.ipynb>data table notebook</a>'\n",
              "            + ' to learn more about interactive tables.';\n",
              "          element.innerHTML = '';\n",
              "          dataTable['output_type'] = 'display_data';\n",
              "          await google.colab.output.renderOutput(dataTable, element);\n",
              "          const docLink = document.createElement('div');\n",
              "          docLink.innerHTML = docLinkHtml;\n",
              "          element.appendChild(docLink);\n",
              "        }\n",
              "      </script>\n",
              "    </div>\n",
              "  </div>\n",
              "  "
            ]
          },
          "metadata": {},
          "execution_count": 4
        }
      ]
    },
    {
      "cell_type": "markdown",
      "source": [
        "**Taking Variables** "
      ],
      "metadata": {
        "id": "TUsD4YB6-Lwy"
      }
    },
    {
      "cell_type": "code",
      "source": [
        "X=df.iloc[:,:-1]\n",
        "y=df.iloc[:,-1]\n"
      ],
      "metadata": {
        "id": "AqCeIswL-OrQ"
      },
      "execution_count": 51,
      "outputs": []
    },
    {
      "cell_type": "markdown",
      "source": [
        "**Encoding categorical data**"
      ],
      "metadata": {
        "id": "FL27e3wt-iEH"
      }
    },
    {
      "cell_type": "code",
      "source": [
        "from sklearn.compose import ColumnTransformer\n",
        "from sklearn.preprocessing import OneHotEncoder\n",
        "ct = ColumnTransformer(transformers=[('encoder', OneHotEncoder(), [3])], remainder='passthrough')\n",
        "X = np.array(ct.fit_transform(X))\n"
      ],
      "metadata": {
        "id": "psWZJe6U-lLM"
      },
      "execution_count": 52,
      "outputs": []
    },
    {
      "cell_type": "code",
      "source": [
        "print(X)"
      ],
      "metadata": {
        "colab": {
          "base_uri": "https://localhost:8080/"
        },
        "id": "wQWu1eNaBE-A",
        "outputId": "c0e5e344-0637-4c44-ead6-163e452f4130"
      },
      "execution_count": 54,
      "outputs": [
        {
          "output_type": "stream",
          "name": "stdout",
          "text": [
            "[[0.00e+00 0.00e+00 1.00e+00 1.65e+05 1.37e+05 4.72e+05]\n",
            " [1.00e+00 0.00e+00 0.00e+00 1.63e+05 1.51e+05 4.44e+05]\n",
            " [0.00e+00 1.00e+00 0.00e+00 1.53e+05 1.01e+05 4.08e+05]\n",
            " [0.00e+00 0.00e+00 1.00e+00 1.44e+05 1.19e+05 3.83e+05]\n",
            " [0.00e+00 1.00e+00 0.00e+00 1.42e+05 9.14e+04 3.66e+05]\n",
            " [0.00e+00 0.00e+00 1.00e+00 1.32e+05 9.98e+04 3.63e+05]\n",
            " [1.00e+00 0.00e+00 0.00e+00 1.35e+05 1.47e+05 1.28e+05]\n",
            " [0.00e+00 1.00e+00 0.00e+00 1.30e+05 1.46e+05 3.24e+05]\n",
            " [0.00e+00 0.00e+00 1.00e+00 1.21e+05 1.49e+05 3.12e+05]\n",
            " [1.00e+00 0.00e+00 0.00e+00 1.23e+05 1.09e+05 3.05e+05]\n",
            " [0.00e+00 1.00e+00 0.00e+00 1.02e+05 1.11e+05 2.29e+05]\n",
            " [1.00e+00 0.00e+00 0.00e+00 1.01e+05 9.18e+04 2.50e+05]\n",
            " [0.00e+00 1.00e+00 0.00e+00 9.39e+04 1.27e+05 2.50e+05]\n",
            " [1.00e+00 0.00e+00 0.00e+00 9.20e+04 1.35e+05 2.53e+05]\n",
            " [0.00e+00 1.00e+00 0.00e+00 1.20e+05 1.57e+05 2.57e+05]\n",
            " [0.00e+00 0.00e+00 1.00e+00 1.15e+05 1.23e+05 2.62e+05]\n",
            " [1.00e+00 0.00e+00 0.00e+00 7.80e+04 1.22e+05 2.64e+05]\n",
            " [0.00e+00 0.00e+00 1.00e+00 9.47e+04 1.45e+05 2.83e+05]\n",
            " [0.00e+00 1.00e+00 0.00e+00 9.17e+04 1.14e+05 2.95e+05]\n",
            " [0.00e+00 0.00e+00 1.00e+00 8.64e+04 1.54e+05 0.00e+00]\n",
            " [1.00e+00 0.00e+00 0.00e+00 7.63e+04 1.14e+05 2.99e+05]\n",
            " [0.00e+00 0.00e+00 1.00e+00 7.84e+04 1.54e+05 3.00e+05]\n",
            " [0.00e+00 1.00e+00 0.00e+00 7.40e+04 1.23e+05 3.03e+05]\n",
            " [0.00e+00 1.00e+00 0.00e+00 6.75e+04 1.06e+05 3.05e+05]\n",
            " [0.00e+00 0.00e+00 1.00e+00 7.70e+04 9.93e+04 1.41e+05]\n",
            " [1.00e+00 0.00e+00 0.00e+00 6.47e+04 1.40e+05 1.38e+05]\n",
            " [0.00e+00 1.00e+00 0.00e+00 7.53e+04 1.44e+05 1.34e+05]\n",
            " [0.00e+00 0.00e+00 1.00e+00 7.21e+04 1.28e+05 3.53e+05]\n",
            " [0.00e+00 1.00e+00 0.00e+00 6.61e+04 1.83e+05 1.18e+05]\n",
            " [0.00e+00 0.00e+00 1.00e+00 6.56e+04 1.53e+05 1.07e+05]\n",
            " [0.00e+00 1.00e+00 0.00e+00 6.20e+04 1.16e+05 9.11e+04]\n",
            " [0.00e+00 0.00e+00 1.00e+00 6.11e+04 1.53e+05 8.82e+04]\n",
            " [1.00e+00 0.00e+00 0.00e+00 6.34e+04 1.29e+05 4.61e+04]\n",
            " [0.00e+00 1.00e+00 0.00e+00 5.55e+04 1.03e+05 2.15e+05]\n",
            " [1.00e+00 0.00e+00 0.00e+00 4.64e+04 1.58e+05 2.11e+05]\n",
            " [0.00e+00 0.00e+00 1.00e+00 4.60e+04 8.50e+04 2.06e+05]\n",
            " [0.00e+00 1.00e+00 0.00e+00 2.87e+04 1.27e+05 2.01e+05]\n",
            " [1.00e+00 0.00e+00 0.00e+00 4.41e+04 5.13e+04 1.97e+05]\n",
            " [0.00e+00 0.00e+00 1.00e+00 2.02e+04 6.59e+04 1.85e+05]\n",
            " [1.00e+00 0.00e+00 0.00e+00 3.86e+04 8.30e+04 1.75e+05]\n",
            " [1.00e+00 0.00e+00 0.00e+00 2.88e+04 1.19e+05 1.73e+05]\n",
            " [0.00e+00 1.00e+00 0.00e+00 2.79e+04 8.47e+04 1.64e+05]\n",
            " [1.00e+00 0.00e+00 0.00e+00 2.36e+04 9.62e+04 1.48e+05]\n",
            " [0.00e+00 0.00e+00 1.00e+00 1.55e+04 1.27e+05 3.55e+04]\n",
            " [1.00e+00 0.00e+00 0.00e+00 2.22e+04 1.55e+05 2.83e+04]\n",
            " [0.00e+00 0.00e+00 1.00e+00 1.00e+03 1.24e+05 1.90e+03]\n",
            " [0.00e+00 1.00e+00 0.00e+00 1.32e+03 1.16e+05 2.97e+05]\n",
            " [1.00e+00 0.00e+00 0.00e+00 0.00e+00 1.35e+05 0.00e+00]\n",
            " [0.00e+00 0.00e+00 1.00e+00 5.42e+02 5.17e+04 0.00e+00]\n",
            " [1.00e+00 0.00e+00 0.00e+00 0.00e+00 1.17e+05 4.52e+04]]\n"
          ]
        }
      ]
    },
    {
      "cell_type": "markdown",
      "source": [
        "**Splitting the dataset into the Training set and Test set**"
      ],
      "metadata": {
        "id": "FdZZpBG-BPkM"
      }
    },
    {
      "cell_type": "code",
      "source": [
        "from sklearn.model_selection import train_test_split\n",
        "X_train, X_test, y_train, y_test = train_test_split(X, y, test_size = 0.2, random_state = 0)"
      ],
      "metadata": {
        "id": "XXI9N3MIBRzk"
      },
      "execution_count": 55,
      "outputs": []
    },
    {
      "cell_type": "markdown",
      "source": [
        "**Training the Multiple Linear Regression model on the Training set**"
      ],
      "metadata": {
        "id": "ievvpLdtBtcT"
      }
    },
    {
      "cell_type": "code",
      "source": [
        "from sklearn.linear_model import LinearRegression\n",
        "regressor = LinearRegression()\n",
        "regressor.fit(X_train, y_train)"
      ],
      "metadata": {
        "colab": {
          "base_uri": "https://localhost:8080/"
        },
        "id": "NpNoSP9MBw3x",
        "outputId": "09cf66be-4a3f-4a26-efc8-9741a4cf7610"
      },
      "execution_count": 56,
      "outputs": [
        {
          "output_type": "execute_result",
          "data": {
            "text/plain": [
              "LinearRegression()"
            ]
          },
          "metadata": {},
          "execution_count": 56
        }
      ]
    },
    {
      "cell_type": "markdown",
      "source": [
        "**Predicting the Test set results**"
      ],
      "metadata": {
        "id": "7VYcQrHXDwoV"
      }
    },
    {
      "cell_type": "code",
      "source": [
        "y_pred = regressor.predict(X_test)\n",
        "np.set_printoptions(precision=2)\n",
        "z=y_pred.reshape(len(y_pred),1)\n",
        "p=y_test.values.reshape(len(y_test),1)\n",
        "print(np.concatenate((z,p),1))\n"
      ],
      "metadata": {
        "colab": {
          "base_uri": "https://localhost:8080/"
        },
        "id": "0Ocmu7mHDzYH",
        "outputId": "e9822665-1579-4723-9eeb-9bc8c0ee0c45"
      },
      "execution_count": 67,
      "outputs": [
        {
          "output_type": "stream",
          "name": "stdout",
          "text": [
            "[[103015.2  103282.38]\n",
            " [132582.28 144259.4 ]\n",
            " [132447.74 146121.95]\n",
            " [ 71976.1   77798.83]\n",
            " [178537.48 191050.39]\n",
            " [116161.24 105008.31]\n",
            " [ 67851.69  81229.06]\n",
            " [ 98791.73  97483.56]\n",
            " [113969.44 110352.25]\n",
            " [167921.07 166187.94]]\n"
          ]
        }
      ]
    },
    {
      "cell_type": "markdown",
      "source": [
        "**Plotting the both predicted and Trained data** \n"
      ],
      "metadata": {
        "id": "dXDHmg2RIAWN"
      }
    },
    {
      "cell_type": "code",
      "source": [
        "plt.scatter(y_pred, y_test, color = 'red')\n",
        "\n"
      ],
      "metadata": {
        "colab": {
          "base_uri": "https://localhost:8080/",
          "height": 282
        },
        "id": "B-j1hdpJD3pW",
        "outputId": "9c574d78-d539-42be-ecbe-f12ea2a67e80"
      },
      "execution_count": 72,
      "outputs": [
        {
          "output_type": "execute_result",
          "data": {
            "text/plain": [
              "<matplotlib.collections.PathCollection at 0x7fee9781df10>"
            ]
          },
          "metadata": {},
          "execution_count": 72
        },
        {
          "output_type": "display_data",
          "data": {
            "text/plain": [
              "<Figure size 432x288 with 1 Axes>"
            ],
            "image/png": "[encoded data removed]"
          },
          "metadata": {
            "needs_background": "light"
          }
        }
      ]
    },
    {
      "cell_type": "markdown",
      "source": [
        "**Multiple Linear Regresson Equation** "
      ],
      "metadata": {
        "id": "hMAJUKVAI_Xg"
      }
    },
    {
      "cell_type": "code",
      "source": [
        "print(regressor.coef_)\n",
        "print(regressor.intercept_)"
      ],
      "metadata": {
        "colab": {
          "base_uri": "https://localhost:8080/"
        },
        "id": "WXFQRUlEJFSK",
        "outputId": "4a7b9085-f012-408a-eedb-f46025eccd8d"
      },
      "execution_count": 73,
      "outputs": [
        {
          "output_type": "stream",
          "name": "stdout",
          "text": [
            "[ 8.66e+01 -8.73e+02  7.86e+02  7.73e-01  3.29e-02  3.66e-02]\n",
            "42467.52924853204\n"
          ]
        }
      ]
    },
    {
      "cell_type": "markdown",
      "source": [
        "Therefore, the equation of our multiple linear regression model is:\n",
        "![image.png](data:image/png;base64,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)"
      ],
      "metadata": {
        "id": "FGZ9otk2KDdr"
      }
    },
    {
      "cell_type": "markdown",
      "source": [
        "Making a single prediction (for example the profit of a startup with R&D Spend = 160000, Administration Spend = 130000, Marketing Spend = 300000 and State = 'California')"
      ],
      "metadata": {
        "id": "LRwJ2FasKWqY"
      }
    },
    {
      "cell_type": "code",
      "source": [
        "print(regressor.predict([[1, 0, 0, 160000, 130000, 300000]]))"
      ],
      "metadata": {
        "colab": {
          "base_uri": "https://localhost:8080/"
        },
        "id": "g8FL1oo6KbIj",
        "outputId": "189b2cb6-e014-4f8a-b17a-ca42a6b2cb42"
      },
      "execution_count": 76,
      "outputs": [
        {
          "output_type": "stream",
          "name": "stdout",
          "text": [
            "[181566.92]\n"
          ]
        }
      ]
    },
    {
      "cell_type": "markdown",
      "source": [
        " Notice also that the \"California\" state was not input as a string in the last column but as \"1, 0, 0\" in the first three columns. That's because of course the predict method expects the one-hot-encoded values of the state, and as we see in the second row of the matrix of features X, \"California\" was encoded as \"1, 0, 0\". And be careful to include these values in the first three columns, not the last three ones, because the dummy variables are always created in the first columns."
      ],
      "metadata": {
        "id": "z0GwrWJ-K5QQ"
      }
    }
  ]
}